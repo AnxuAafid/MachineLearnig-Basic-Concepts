{
 "cells": [
  {
   "cell_type": "markdown",
   "id": "bfa7b2d2",
   "metadata": {},
   "source": [
    " "
   ]
  },
  {
   "cell_type": "markdown",
   "id": "5542f5dd",
   "metadata": {},
   "source": [
    "##### 1. What does one mean by the term \"machine learning\" ?\n",
    "**Ans:** Machine learning, as a subset of artificial intelligence (AI), centers around the creation of algorithms and models that empower computer systems to acquire knowledge and enhance performance through experiential learning, without relying on explicit programming. Put simply, it enables computers to learn from data and utilize that learning to make predictions or execute actions.\n",
    "\n",
    "In the past, computers primarily operated based on precise instructions for specific tasks. Machine learning, on the other hand, shifts away from explicit programming and leverages extensive datasets to train computers in identifying patterns, making predictions, and resolving intricate problems."
   ]
  },
  {
   "cell_type": "markdown",
   "id": "191d54fe",
   "metadata": {},
   "source": [
    "##### 2.Can you think of 4 distinct types of issues where it shines ?\n",
    "**Ans:** Machine learning shines in the following four distinct types of issues:\n",
    "\n",
    "1. Pattern Recognition: Machine learning excels at identifying and recognizing complex patterns within data, such as image classification and object detection.\n",
    "\n",
    "2. Natural Language Processing (NLP): Machine learning enables machines to understand and generate human language, making it valuable for tasks like sentiment analysis, language translation, and chatbots.\n",
    "\n",
    "3. Personalized Recommendations: Machine learning algorithms analyze user preferences and behavior to provide personalized recommendations, widely used in e-commerce, streaming services, and tailored user experiences.\n",
    "\n",
    "4. Anomaly Detection and Fraud Prevention: Machine learning is effective in detecting anomalies and fraudulent activities by identifying deviations from normal patterns, applied in financial fraud detection, cybersecurity, and credit card fraud prevention.\n",
    "\n",
    "These are just a few examples of the diverse applications of machine learning, which has the potential to bring valuable insights and automation across various domains."
   ]
  },
  {
   "cell_type": "markdown",
   "id": "2be941b1",
   "metadata": {},
   "source": [
    "##### 3.What is a labeled training set, and how does it work ?\n",
    "**Ans:** The data with known response variable values is divided into two parts. The training set is utilized to train the algorithm, allowing the model to learn from the known responses. Subsequently, the trained model is applied to the test set, which contains instances with pre-existing known response variable values. The model then predicts the response variable values based on the patterns learned during training.\n",
    "This labeled concept is used in supervised machine learning algorithms"
   ]
  },
  {
   "cell_type": "markdown",
   "id": "af127751",
   "metadata": {},
   "source": [
    "##### 4.What are the two most important tasks that are supervised ?\n",
    "**Ans:** **Regression** and **Classification**."
   ]
  },
  {
   "cell_type": "markdown",
   "id": "18091371",
   "metadata": {},
   "source": [
    "##### 5.Can you think of four examples of unsupervised tasks ?\n",
    "**Ans:** Four common Unsupervised Tasks included \n",
    "1. **Clustering**, \n",
    "2. **Visualization**,\n",
    "3. **Dimensionality Reduction**, and \n",
    "4. **Association Rule Learning**."
   ]
  },
  {
   "cell_type": "markdown",
   "id": "4253e5da",
   "metadata": {},
   "source": [
    "##### 6.State the machine learning model that would be best to make a robot walk through various unfamiliar terrains ?\n",
    "**Ans:** The best Machine Learning algorithm to allow a Robot to walk in unfamiliar terrains is **Reinforced Learning**, where the robot can learn from response of the terrain to optimize itself."
   ]
  },
  {
   "cell_type": "markdown",
   "id": "ad8c6cd2",
   "metadata": {},
   "source": [
    "##### 7.Which algorithm will you use to divide your customers into different groups ?\n",
    "**Ans:** The Best Algorithm to Segment Customers into different groups is either **Supervised Learning** (if the groups have known labels) or **Unsupervised Learning** (if there are no group labels)."
   ]
  },
  {
   "cell_type": "markdown",
   "id": "9105b2d5",
   "metadata": {},
   "source": [
    "##### 8.Will you consider the problem of spam detection to be a supervised or unsupervised learning problem ?\n",
    "**Ans:** Since  spam detection is a considered as labelled data (spam or no spam) therefore Spam detection is a Supervised Machine Learning problem."
   ]
  },
  {
   "cell_type": "markdown",
   "id": "0c085053",
   "metadata": {},
   "source": [
    "##### 9.What is the concept of an online learning system ?\n",
    "**Ans:** The concept of an online learning system, also known as online machine learning or incremental learning, revolves around the ability of a machine learning model to learn and adapt continuously as new data becomes available in real-time or in a streaming fashion"
   ]
  },
  {
   "cell_type": "markdown",
   "id": "90fdf632",
   "metadata": {},
   "source": [
    "##### 10.What is out-of-core learning, and how does it differ from core learning ?\n",
    "**Ans:** Out-of-core learning is particularly useful when dealing with large-scale datasets, such as analyzing massive log files, processing streaming data, or training models on extensive collections of images or text documents. By leveraging disk-based storage and processing techniques, out-of-core learning allows for the efficient handling of big data scenarios where memory limitations are a constraint."
   ]
  },
  {
   "cell_type": "markdown",
   "id": "25b1ebf0",
   "metadata": {},
   "source": [
    "##### 11.What kind of learning algorithm makes predictions using a similarity measure ?\n",
    "**Ans:** Learning algorithm that relies on a similarity measure to make predictions is **Instance Based Algorithm**."
   ]
  },
  {
   "cell_type": "markdown",
   "id": "3311e6c7",
   "metadata": {},
   "source": [
    "##### 12.What's the difference between a model parameter and a hyperparameter in a learning algorithm ?\n",
    "**Ans:** Model parameter determines how a model will predict given a new instance. Model usually has more than one parameter (i.e. slope of a linear model). Hyperparameter is a parameter for the learning algorithm, not of a model."
   ]
  },
  {
   "cell_type": "markdown",
   "id": "1574e21a",
   "metadata": {},
   "source": [
    "##### 13.What are the criteria that model-based learning algorithms look for? What is the most popular method they use to achieve success? What method do they use to make predictions ?\n",
    "**Ans:** Model based learning algorithm search for the optimal value of parameters in a model that will give the best results for the new instances. We often use a cost function or similar to determine what the parameter value has to be in order to minimize the function. The model makes prediction by using the value of the new instance and the parameters in its function."
   ]
  },
  {
   "cell_type": "markdown",
   "id": "42e921cd",
   "metadata": {},
   "source": [
    "##### 14.Can you name four of the most important Machine Learning challenges ?\n",
    "**Ans:** Four main challenges in Machine Learning include the following:\n",
    "1. Overfitting the Data (using a model too complicated)\n",
    "2. Underfitting the data (using a simple model)\n",
    "3. Lacking in Data\n",
    "4. Non Representative Data."
   ]
  },
  {
   "cell_type": "markdown",
   "id": "2e45ca05",
   "metadata": {},
   "source": [
    "##### 15.What happens if the model performs well on the training data but fails to generalize the results to new situations? Can you think of three different options ?\n",
    "**Ans:** If the model performs poorly to new instances, then it has overfitted on the training data. To solve this, we can do any of the following three: \n",
    "- Get more data\n",
    "- Implement a simpler model\n",
    "- Eliminate outliers or noise from the existing data set."
   ]
  },
  {
   "cell_type": "markdown",
   "id": "cb05d8b8",
   "metadata": {},
   "source": [
    "##### 16.What exactly is a test set, and why would you need one ?\n",
    "**Ans:** Test set is a set to test your model (fit using training data) to see how it performs.Test set is necessary to determine how good (or bad) a model performs."
   ]
  },
  {
   "cell_type": "markdown",
   "id": "abf60183",
   "metadata": {},
   "source": [
    "##### 17.What is a validation set's purpose ?\n",
    "**Ans:** Validation set is a set used to compare between different training models."
   ]
  },
  {
   "cell_type": "markdown",
   "id": "31ed593a",
   "metadata": {},
   "source": [
    "##### 18.What precisely is the train-dev kit, when will you need it, how do you put it to use ?\n",
    "**Ans:** Cross-validation is a tool to compare models without needing a separate validation set. It is preferred over validation set because we can save from breaking of part of the training set to create a validation set, as having more data is valuable regardless."
   ]
  },
  {
   "cell_type": "markdown",
   "id": "2148fdcb",
   "metadata": {},
   "source": [
    "##### 19.What could go wrong if you use the test set to tune hyperparameters ?\n",
    "**Ans:** certain problems may occur due to hyperparameter tuning \n",
    "1. overfitting\n",
    "2. Leakage of information\n",
    "3. Inability to assess model performance"
   ]
  },
  {
   "cell_type": "code",
   "execution_count": null,
   "id": "00007b94",
   "metadata": {},
   "outputs": [],
   "source": []
  }
 ],
 "metadata": {
  "kernelspec": {
   "display_name": "Python 3",
   "language": "python",
   "name": "python3"
  },
  "language_info": {
   "codemirror_mode": {
    "name": "ipython",
    "version": 3
   },
   "file_extension": ".py",
   "mimetype": "text/x-python",
   "name": "python",
   "nbconvert_exporter": "python",
   "pygments_lexer": "ipython3",
   "version": "3.8.8"
  }
 },
 "nbformat": 4,
 "nbformat_minor": 5
}
