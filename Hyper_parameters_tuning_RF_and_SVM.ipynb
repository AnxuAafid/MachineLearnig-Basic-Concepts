{
  "nbformat": 4,
  "nbformat_minor": 0,
  "metadata": {
    "colab": {
      "provenance": []
    },
    "kernelspec": {
      "name": "python3",
      "display_name": "Python 3"
    },
    "language_info": {
      "name": "python"
    }
  },
  "cells": [
    {
      "cell_type": "markdown",
      "source": [
        "Randdddddddddddooooooooooommmmmmmmm FFFFForrrrrrrrreeeeeeeeesst\n"
      ],
      "metadata": {
        "id": "0NOayuOkiHB-"
      }
    },
    {
      "cell_type": "code",
      "execution_count": null,
      "metadata": {
        "id": "GQqJmEoVg9TG"
      },
      "outputs": [],
      "source": [
        "from sklearn.model_selection import RandomizedSearchCV\n",
        "\n",
        "#RANDOM FOREST\n",
        "# Number of trees in random forest\n",
        "n_estimators = [120,150,180,200,245,250,300]\n",
        "\n",
        "# Number of features to consider at every split\n",
        "max_features = [0.2,0.3,0.4,0.5,0.6,0.7,0.8,0.9,1.0]\n",
        "\n",
        "# Maximum number of levels in tree\n",
        "max_depth = [8,16,32,37,40,45]\n",
        "\n",
        "# Number of samples\n",
        "max_samples = [0.2,0.3,0.4,0.5,0.6,0.75,0.8,1.0]\n",
        "\n",
        "# Bootstrap samples\n",
        "bootstrap = [True,False]\n",
        "\n",
        "# Minimum number of samples required to split a node\n",
        "min_samples_split = [2,5,7,8,9,10]\n",
        "\n",
        "# Minimum number of samples required at each leaf node\n",
        "min_samples_leaf = [1,2,3,4,6,8]\n",
        "\n",
        "\n",
        "param_grid = {'n_estimators': n_estimators,\n",
        "               'max_features': max_features,\n",
        "               'max_depth': max_depth,\n",
        "              'max_samples':max_samples,\n",
        "              \n",
        "              'min_samples_split':min_samples_split,\n",
        "              'min_samples_leaf':min_samples_leaf\n",
        "             }\n",
        "from sklearn.ensemble import RandomForestClassifier\n",
        "rf = RandomForestClassifier()\n",
        "rf_grid = RandomizedSearchCV(estimator = rf, \n",
        "                       param_distributions = param_grid, \n",
        "                       cv = 5, \n",
        "                       verbose=2, \n",
        "                       n_jobs = -1)\n",
        "from sklearn.ensemble import RandomForestClassifier\n",
        "rf_grid = RandomizedSearchCV(estimator = rf, \n",
        "                       param_distributions = param_grid, \n",
        "                       cv = 5, \n",
        "                       verbose=2, \n",
        "                       n_jobs = -1)\n",
        " "
      ]
    },
    {
      "cell_type": "code",
      "source": [
        "rf_grid.fit(X_for_RF, y_train)\n"
      ],
      "metadata": {
        "id": "zTmI6QYwiDbr"
      },
      "execution_count": null,
      "outputs": []
    },
    {
      "cell_type": "code",
      "source": [
        "rf_grid.best_params_ \n"
      ],
      "metadata": {
        "id": "KSMuGzQCiAM9"
      },
      "execution_count": null,
      "outputs": []
    },
    {
      "cell_type": "code",
      "source": [
        "rf_grid.best_score_"
      ],
      "metadata": {
        "id": "1O9WKSsTh7ET"
      },
      "execution_count": null,
      "outputs": []
    },
    {
      "cell_type": "code",
      "source": [
        "from sklearn.metrics import accuracy_score, confusion_matrix, classification_report\n",
        "prediction_RF = rf_grid.predict(X_test_features)\n",
        "\n",
        "# View accuracy score\n",
        "accuracy_score(y_val, prediction_RF)"
      ],
      "metadata": {
        "id": "YGipcevMh5bf"
      },
      "execution_count": null,
      "outputs": []
    },
    {
      "cell_type": "markdown",
      "source": [
        "SVMMMMMMMMMMMMMMMMMMMMMMMMMMMMmm\n"
      ],
      "metadata": {
        "id": "pmzwbbipiOZD"
      }
    },
    {
      "cell_type": "markdown",
      "source": [
        "RandomSearch CV\n"
      ],
      "metadata": {
        "id": "HCilOX9Eiarv"
      }
    },
    {
      "cell_type": "code",
      "source": [
        "svc = SVC()\n",
        "\n",
        "parameters = {'kernel': ['rbf','sigmoid','poly'],\n",
        "               'C': [0.1, 1.0, 10.0, 100.0, 1000.0, 10000.0, 100000.0],\n",
        "               'gamma': [0.00001, 0.0001, 0.001, 0.01, 0.1, 1.0],\n",
        "             }\n",
        "\n",
        "clf = RandomizedSearchCV(estimator = svc, param_distributions = parameters, cv = 5)\n",
        "clf.fit(x_train, y_train)   # x_train,y_train\n",
        "\n",
        "# summarize results\n",
        "print(\"Best: %f using %s\" % (clf.best_score_, clf.best_params_))\n"
      ],
      "metadata": {
        "id": "jFixwf4qiQci"
      },
      "execution_count": null,
      "outputs": []
    },
    {
      "cell_type": "code",
      "source": [
        "print(clf.best_estimator_)"
      ],
      "metadata": {
        "id": "VcIqvb_Xieyq"
      },
      "execution_count": null,
      "outputs": []
    },
    {
      "cell_type": "code",
      "source": [
        "model = SVC(C=1.0, gamma=1.0, kernel='rbf')\n",
        "\n",
        "model.fit(x_train, y_train)"
      ],
      "metadata": {
        "id": "CFFZ24HIihfJ"
      },
      "execution_count": null,
      "outputs": []
    },
    {
      "cell_type": "code",
      "source": [
        "prediction = model.predict(x_test)\n",
        "print(\"Accuracy in percentage:\", metrics.accuracy_score(y_test, prediction))\n"
      ],
      "metadata": {
        "id": "f12tO2PDii_5"
      },
      "execution_count": null,
      "outputs": []
    },
    {
      "cell_type": "markdown",
      "source": [
        "GRIDSEARCHCV"
      ],
      "metadata": {
        "id": "6fSB5YHPit2N"
      }
    },
    {
      "cell_type": "code",
      "source": [
        "svc = SVC()\n",
        "\n",
        "parameters = {'kernel': ['rbf','sigmoid','poly'],\n",
        "               'C': [0.1, 1.0, 10.0, 100.0, 1000.0, 10000.0, 100000.0],\n",
        "               'gamma': [0.00001, 0.0001, 0.001, 0.01, 0.1, 1.0],\n",
        "             }\n",
        "\n",
        "clf = GridSearchCV(estimator = svc, param_grid = parameters, cv = 5)\n",
        "clf.fit(x_train, y_train)   # x_train,y_train\n",
        "\n",
        "# summarize results\n",
        "print(\"Best: %f using %s\" % (clf.best_score_, clf.best_params_))"
      ],
      "metadata": {
        "id": "Nt1V8oXXitFb"
      },
      "execution_count": null,
      "outputs": []
    },
    {
      "cell_type": "code",
      "source": [],
      "metadata": {
        "id": "dns1FuDjii8V"
      },
      "execution_count": null,
      "outputs": []
    },
    {
      "cell_type": "code",
      "source": [],
      "metadata": {
        "id": "hrbXKD0Hii6z"
      },
      "execution_count": null,
      "outputs": []
    }
  ]
}